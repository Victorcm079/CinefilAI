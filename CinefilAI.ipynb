{
  "nbformat": 4,
  "nbformat_minor": 0,
  "metadata": {
    "colab": {
      "provenance": [],
      "authorship_tag": "ABX9TyN3u4rKzbgoFed2OUHSqu3p",
      "include_colab_link": true
    },
    "kernelspec": {
      "name": "python3",
      "display_name": "Python 3"
    },
    "language_info": {
      "name": "python"
    }
  },
  "cells": [
    {
      "cell_type": "markdown",
      "metadata": {
        "id": "view-in-github",
        "colab_type": "text"
      },
      "source": [
        "<a href=\"https://colab.research.google.com/github/Victorcm079/CinefilAI/blob/main/CinefilAI.ipynb\" target=\"_parent\"><img src=\"https://colab.research.google.com/assets/colab-badge.svg\" alt=\"Open In Colab\"/></a>"
      ]
    },
    {
      "cell_type": "markdown",
      "source": [
        "Testando o texto pela primeira vez"
      ],
      "metadata": {
        "id": "iROs5yUhcrnn"
      }
    },
    {
      "cell_type": "code",
      "execution_count": 1,
      "metadata": {
        "id": "vCyzVZI9Xd6_"
      },
      "outputs": [],
      "source": [
        "!pip install -q -U google-generativeai"
      ]
    },
    {
      "cell_type": "code",
      "source": [
        "# Import the Python SDK\n",
        "import google.generativeai as genai\n",
        "from google.colab import userdata\n",
        "api_key = userdata.get('SECRET_KEY')\n",
        "genai.configure(api_key)"
      ],
      "metadata": {
        "id": "jbrmqIFCc6c-"
      },
      "execution_count": 2,
      "outputs": []
    },
    {
      "cell_type": "markdown",
      "source": [
        "Listar os modelos disponíveis"
      ],
      "metadata": {
        "id": "9LiY6Z-adIgi"
      }
    },
    {
      "cell_type": "code",
      "source": [
        "generation_config = {\n",
        "    \"candidate_count\": 1,\n",
        "    \"temperature\": 0.5,\n",
        "\n",
        "}"
      ],
      "metadata": {
        "id": "Tu47tC7DfdOC"
      },
      "execution_count": 7,
      "outputs": []
    },
    {
      "cell_type": "code",
      "source": [
        "safety_settings = {\n",
        "    \"HARASSMENT\": \"BLOCK_NONE\",\n",
        "    \"HATE\": \"BLOCK_NONE\",\n",
        "    \"SEXUAL\": \"BLOCK_NONE\",\n",
        "    \"DANGEROUS\": \"BLOCK_NONE\",\n",
        "}"
      ],
      "metadata": {
        "id": "FnuCB4NuguDV"
      },
      "execution_count": 8,
      "outputs": []
    },
    {
      "cell_type": "markdown",
      "source": [
        "Inicializando o modelo"
      ],
      "metadata": {
        "id": "3AuUWeRnhmoZ"
      }
    },
    {
      "cell_type": "code",
      "source": [
        "model = genai.GenerativeModel(model_name =\"gemini-1.0-pro\",\n",
        "                              generation_config=generation_config,\n",
        "                              safety_settings=safety_settings)"
      ],
      "metadata": {
        "id": "YsyNXCHJhotC"
      },
      "execution_count": 10,
      "outputs": []
    },
    {
      "cell_type": "markdown",
      "source": [
        "Gerar response"
      ],
      "metadata": {
        "id": "GYIB8KGgi4-Z"
      }
    },
    {
      "cell_type": "code",
      "source": [
        "chat = model.start_chat(history=[])"
      ],
      "metadata": {
        "id": "bG2TcBq3jwHd"
      },
      "execution_count": 74,
      "outputs": []
    },
    {
      "cell_type": "code",
      "source": [
        "chat = model.start_chat(history=[])\n",
        "\n",
        "prompt = \"Procure 3 filmes com essas características: \" + input('Entre com as características do filme que você gostaria de assistir (exemplo: terror, vampiro, clássico): ') + \". Apresente as informações do filme sugerido nesta ordem: Nome do Filme, Nota do IMDB, Nota do público Rotten Tomatoes, Ano de Lançamento, Gênero, Atores Principais, Sinopse, Por que o filme foi escolhido, onde assistir.  \"\n",
        "\n",
        "response = chat.send_message(prompt)\n",
        "print(\"Resposta:\", response.text, '\\n\\n')\n",
        "\n",
        "\n",
        "while prompt.lower() not in [\"fim\"]:\n",
        "  prompt = input('Encontrou um filme interessante? Se sim, digite \"fim\" para finalizar. Caso não, digite como posso ajudar mais, como por exemplo, \"gere 3 outras sugestões\": ')\n",
        "  if prompt.lower() not in [\"fim\"]:\n",
        "    response = chat.send_message(prompt)\n",
        "    print(\"Lista de filmes: \\n\", response.text, '\\n\\n')\n",
        "\n"
      ],
      "metadata": {
        "colab": {
          "base_uri": "https://localhost:8080/",
          "height": 888
        },
        "id": "hXKJCXZ9kHYJ",
        "outputId": "d27fb809-b0da-40a1-8a00-4dfc6f0de275"
      },
      "execution_count": 105,
      "outputs": [
        {
          "name": "stdout",
          "output_type": "stream",
          "text": [
            "Entre com as características do filme que você gostaria de assistir (exemplo: terror, vampiro, clássico): Vampiro, terror, clássico\n",
            "Resposta: **1. Nosferatu (1922)**\n",
            "* Nota do IMDB: 8,1/10\n",
            "* Nota do público Rotten Tomatoes: 97%\n",
            "* Ano de Lançamento: 1922\n",
            "* Gênero: Terror, Clássico\n",
            "* Atores Principais: Max Schreck, Gustav von Wangenheim, Greta Schröder\n",
            "* Sinopse: Um corretor de imóveis viaja para a Transilvânia para fechar um negócio com o misterioso Conde Orlok, que se revela um vampiro.\n",
            "* Por que foi escolhido: Um dos primeiros e mais influentes filmes de vampiros, Nosferatu é um clássico do cinema expressionista alemão, conhecido por sua atmosfera assustadora e performance icônica de Max Schreck como o Conde Orlok.\n",
            "* Onde assistir: Amazon Prime Video, Apple TV\n",
            "\n",
            "**2. Drácula de Bram Stoker (1992)**\n",
            "* Nota do IMDB: 7,4/10\n",
            "* Nota do público Rotten Tomatoes: 81%\n",
            "* Ano de Lançamento: 1992\n",
            "* Gênero: Terror, Clássico\n",
            "* Atores Principais: Gary Oldman, Winona Ryder, Anthony Hopkins\n",
            "* Sinopse: Uma jovem advogada viaja para a Transilvânia para se encontrar com o enigmático Conde Drácula, que se apaixona por ela e a leva para seu castelo.\n",
            "* Por que foi escolhido: Uma adaptação fiel do romance clássico de Bram Stoker, Drácula de Bram Stoker apresenta uma performance marcante de Gary Oldman como o icônico vampiro.\n",
            "* Onde assistir: Amazon Prime Video, HBO Max\n",
            "\n",
            "**3. A Sombra do Vampiro (2000)**\n",
            "* Nota do IMDB: 7,3/10\n",
            "* Nota do público Rotten Tomatoes: 86%\n",
            "* Ano de Lançamento: 2000\n",
            "* Gênero: Terror, Clássico\n",
            "* Atores Principais: John Malkovich, Willem Dafoe, Nicolas Cage\n",
            "* Sinopse: Uma visão fictícia da produção do filme Nosferatu, sugerindo que o ator que interpretou o Conde Orlok era na verdade um vampiro.\n",
            "* Por que foi escolhido: Um filme único e fascinante que explora a lenda por trás de Nosferatu, com performances excepcionais de John Malkovich e Willem Dafoe.\n",
            "* Onde assistir: Amazon Prime Video, Apple TV \n",
            "\n",
            "\n",
            "Encontrou um filme interessante? Se sim, digite \"fim\" para finalizar. Caso não, digite como posso ajudar mais, como por exemplo, \"gere 3 outras sugestões\": Sugira um outro filme de 2010 para cá\n",
            "Lista de filmes: \n",
            " **Uma Garota Volta para Casa Sozinha à Noite (2014)**\n",
            "\n",
            "* Nota do IMDB: 7,1/10\n",
            "* Nota do público Rotten Tomatoes: 95%\n",
            "* Ano de Lançamento: 2014\n",
            "* Gênero: Terror, Vampiro, Drama\n",
            "* Atores Principais: Sheila Vand, Arash Marandi, Dominic Rains\n",
            "* Sinopse: Em uma cidade iraniana desértica e sombria, uma jovem vampira solitária busca vingança contra aqueles que a prejudicaram.\n",
            "* Por que foi escolhido: Um filme de vampiros único e atmosférico que subverte as convenções tradicionais do gênero, explorando temas de perda, solidão e empoderamento feminino.\n",
            "* Onde assistir: Amazon Prime Video, Shudder\n",
            "\n",
            "Uma Garota Volta para Casa Sozinha à Noite é um filme iraniano que foi aclamado pela crítica por sua cinematografia deslumbrante, trilha sonora envolvente e performance poderosa de Sheila Vand como a vampira titular. O filme oferece uma visão nova e refrescante do gênero de vampiros, ao mesmo tempo em que aborda questões sociais e culturais importantes. \n",
            "\n",
            "\n",
            "Encontrou um filme interessante? Se sim, digite \"fim\" para finalizar. Caso não, digite como posso ajudar mais, como por exemplo, \"gere 3 outras sugestões\": Fim\n"
          ]
        }
      ]
    },
    {
      "cell_type": "code",
      "source": [
        "#Melhorando a visualização\n",
        "#Código disponível em https://ai.google.dev/tutorials/python_quickstart#import_packages\n",
        "import textwrap\n",
        "from IPython.display import display\n",
        "from IPython.display import Markdown\n",
        "\n",
        "def to_markdown(text):\n",
        "  text = text.replace('•', '  *')\n",
        "  return Markdown(textwrap.indent(text, '> ', predicate=lambda _: True))\n",
        "\n",
        "#Imprimindo o histórico\n",
        "for message in chat.history:\n",
        "  display(to_markdown(f'**{message.role}**: {message.parts[0].text}'))\n",
        "  print('-------------------------------------------')"
      ],
      "metadata": {
        "colab": {
          "base_uri": "https://localhost:8080/",
          "height": 1000
        },
        "id": "wDYAwLpjoAOs",
        "outputId": "90185fb6-18f9-47c2-f84e-93b8b9675f0e"
      },
      "execution_count": 106,
      "outputs": [
        {
          "output_type": "display_data",
          "data": {
            "text/plain": [
              "<IPython.core.display.Markdown object>"
            ],
            "text/markdown": "> **user**: Procure 3 filmes com essas características: Vampiro, terror, clássico. Apresente as informações do filme sugerido nesta ordem: Nome do Filme, Nota do IMDB, Nota do público Rotten Tomatoes, Ano de Lançamento, Gênero, Atores Principais, Sinopse, Por que o filme foi escolhido, onde assistir.  "
          },
          "metadata": {}
        },
        {
          "output_type": "stream",
          "name": "stdout",
          "text": [
            "-------------------------------------------\n"
          ]
        },
        {
          "output_type": "display_data",
          "data": {
            "text/plain": [
              "<IPython.core.display.Markdown object>"
            ],
            "text/markdown": "> **model**: **1. Nosferatu (1922)**\n> * Nota do IMDB: 8,1/10\n> * Nota do público Rotten Tomatoes: 97%\n> * Ano de Lançamento: 1922\n> * Gênero: Terror, Clássico\n> * Atores Principais: Max Schreck, Gustav von Wangenheim, Greta Schröder\n> * Sinopse: Um corretor de imóveis viaja para a Transilvânia para fechar um negócio com o misterioso Conde Orlok, que se revela um vampiro.\n> * Por que foi escolhido: Um dos primeiros e mais influentes filmes de vampiros, Nosferatu é um clássico do cinema expressionista alemão, conhecido por sua atmosfera assustadora e performance icônica de Max Schreck como o Conde Orlok.\n> * Onde assistir: Amazon Prime Video, Apple TV\n> \n> **2. Drácula de Bram Stoker (1992)**\n> * Nota do IMDB: 7,4/10\n> * Nota do público Rotten Tomatoes: 81%\n> * Ano de Lançamento: 1992\n> * Gênero: Terror, Clássico\n> * Atores Principais: Gary Oldman, Winona Ryder, Anthony Hopkins\n> * Sinopse: Uma jovem advogada viaja para a Transilvânia para se encontrar com o enigmático Conde Drácula, que se apaixona por ela e a leva para seu castelo.\n> * Por que foi escolhido: Uma adaptação fiel do romance clássico de Bram Stoker, Drácula de Bram Stoker apresenta uma performance marcante de Gary Oldman como o icônico vampiro.\n> * Onde assistir: Amazon Prime Video, HBO Max\n> \n> **3. A Sombra do Vampiro (2000)**\n> * Nota do IMDB: 7,3/10\n> * Nota do público Rotten Tomatoes: 86%\n> * Ano de Lançamento: 2000\n> * Gênero: Terror, Clássico\n> * Atores Principais: John Malkovich, Willem Dafoe, Nicolas Cage\n> * Sinopse: Uma visão fictícia da produção do filme Nosferatu, sugerindo que o ator que interpretou o Conde Orlok era na verdade um vampiro.\n> * Por que foi escolhido: Um filme único e fascinante que explora a lenda por trás de Nosferatu, com performances excepcionais de John Malkovich e Willem Dafoe.\n> * Onde assistir: Amazon Prime Video, Apple TV"
          },
          "metadata": {}
        },
        {
          "output_type": "stream",
          "name": "stdout",
          "text": [
            "-------------------------------------------\n"
          ]
        },
        {
          "output_type": "display_data",
          "data": {
            "text/plain": [
              "<IPython.core.display.Markdown object>"
            ],
            "text/markdown": "> **user**: Sugira um outro filme de 2010 para cá"
          },
          "metadata": {}
        },
        {
          "output_type": "stream",
          "name": "stdout",
          "text": [
            "-------------------------------------------\n"
          ]
        },
        {
          "output_type": "display_data",
          "data": {
            "text/plain": [
              "<IPython.core.display.Markdown object>"
            ],
            "text/markdown": "> **model**: **Uma Garota Volta para Casa Sozinha à Noite (2014)**\n> \n> * Nota do IMDB: 7,1/10\n> * Nota do público Rotten Tomatoes: 95%\n> * Ano de Lançamento: 2014\n> * Gênero: Terror, Vampiro, Drama\n> * Atores Principais: Sheila Vand, Arash Marandi, Dominic Rains\n> * Sinopse: Em uma cidade iraniana desértica e sombria, uma jovem vampira solitária busca vingança contra aqueles que a prejudicaram.\n> * Por que foi escolhido: Um filme de vampiros único e atmosférico que subverte as convenções tradicionais do gênero, explorando temas de perda, solidão e empoderamento feminino.\n> * Onde assistir: Amazon Prime Video, Shudder\n> \n> Uma Garota Volta para Casa Sozinha à Noite é um filme iraniano que foi aclamado pela crítica por sua cinematografia deslumbrante, trilha sonora envolvente e performance poderosa de Sheila Vand como a vampira titular. O filme oferece uma visão nova e refrescante do gênero de vampiros, ao mesmo tempo em que aborda questões sociais e culturais importantes."
          },
          "metadata": {}
        },
        {
          "output_type": "stream",
          "name": "stdout",
          "text": [
            "-------------------------------------------\n"
          ]
        }
      ]
    }
  ]
}